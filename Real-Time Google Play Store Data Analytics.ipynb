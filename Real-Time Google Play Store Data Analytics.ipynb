{
 "cells": [
  {
   "cell_type": "markdown",
   "id": "53285649-1d59-4db1-9d65-c2c0944e88d6",
   "metadata": {},
   "source": [
    "# NullClass Internship: Real-Time Google Play Store Data Analytics – Python\n",
    "Combined Tasks 1–5 in a single script for GitHub submission."
   ]
  },
  {
   "cell_type": "markdown",
   "id": "7c2e13ad-f1db-40d5-a3c7-77c0fc3bb63d",
   "metadata": {},
   "source": [
    "1. Create a single .py script that bundles Tasks 1–5 with all filters and time windows.\n",
    "2. The script expects a file named 'googleplaystore.csv' in the same folder.\n",
    "3. It uses Plotly for charts and handles common data-cleaning quirks in the Google Play dataset."
   ]
  },
  {
   "cell_type": "markdown",
   "id": "d05df47a-2fe4-4991-99b4-5798d70f5a10",
   "metadata": {},
   "source": [
    "# Import Laibrary"
   ]
  },
  {
   "cell_type": "code",
   "execution_count": 1,
   "id": "dd76ed69-8e52-4e0e-b9b5-55ee07a24ec7",
   "metadata": {},
   "outputs": [],
   "source": [
    "import pandas as pd\n",
    "import numpy as np\n",
    "import plotly.express as px\n",
    "import plotly.graph_objects as go\n",
    "from datetime import datetime\n",
    "import pytz"
   ]
  },
  {
   "cell_type": "markdown",
   "id": "2f53a273-d0d0-4d46-acca-386be164dea7",
   "metadata": {},
   "source": [
    "# Load data"
   ]
  },
  {
   "cell_type": "code",
   "execution_count": 2,
   "id": "4f87d0c1-bd75-40b1-890d-51571c4d90ce",
   "metadata": {},
   "outputs": [
    {
     "data": {
      "text/html": [
       "<div>\n",
       "<style scoped>\n",
       "    .dataframe tbody tr th:only-of-type {\n",
       "        vertical-align: middle;\n",
       "    }\n",
       "\n",
       "    .dataframe tbody tr th {\n",
       "        vertical-align: top;\n",
       "    }\n",
       "\n",
       "    .dataframe thead th {\n",
       "        text-align: right;\n",
       "    }\n",
       "</style>\n",
       "<table border=\"1\" class=\"dataframe\">\n",
       "  <thead>\n",
       "    <tr style=\"text-align: right;\">\n",
       "      <th></th>\n",
       "      <th>App</th>\n",
       "      <th>Category</th>\n",
       "      <th>Rating</th>\n",
       "      <th>Reviews</th>\n",
       "      <th>Size</th>\n",
       "      <th>Installs</th>\n",
       "      <th>Type</th>\n",
       "      <th>Price</th>\n",
       "      <th>Content Rating</th>\n",
       "      <th>Genres</th>\n",
       "      <th>Last Updated</th>\n",
       "      <th>Current Ver</th>\n",
       "      <th>Android Ver</th>\n",
       "    </tr>\n",
       "  </thead>\n",
       "  <tbody>\n",
       "    <tr>\n",
       "      <th>0</th>\n",
       "      <td>Photo Editor &amp; Candy Camera &amp; Grid &amp; ScrapBook</td>\n",
       "      <td>ART_AND_DESIGN</td>\n",
       "      <td>4.1</td>\n",
       "      <td>159</td>\n",
       "      <td>19M</td>\n",
       "      <td>10,000+</td>\n",
       "      <td>Free</td>\n",
       "      <td>0</td>\n",
       "      <td>Everyone</td>\n",
       "      <td>Art &amp; Design</td>\n",
       "      <td>January 7, 2018</td>\n",
       "      <td>1.0.0</td>\n",
       "      <td>4.0.3 and up</td>\n",
       "    </tr>\n",
       "    <tr>\n",
       "      <th>1</th>\n",
       "      <td>Coloring book moana</td>\n",
       "      <td>ART_AND_DESIGN</td>\n",
       "      <td>3.9</td>\n",
       "      <td>967</td>\n",
       "      <td>14M</td>\n",
       "      <td>500,000+</td>\n",
       "      <td>Free</td>\n",
       "      <td>0</td>\n",
       "      <td>Everyone</td>\n",
       "      <td>Art &amp; Design;Pretend Play</td>\n",
       "      <td>January 15, 2018</td>\n",
       "      <td>2.0.0</td>\n",
       "      <td>4.0.3 and up</td>\n",
       "    </tr>\n",
       "    <tr>\n",
       "      <th>2</th>\n",
       "      <td>U Launcher Lite – FREE Live Cool Themes, Hide ...</td>\n",
       "      <td>ART_AND_DESIGN</td>\n",
       "      <td>4.7</td>\n",
       "      <td>87510</td>\n",
       "      <td>8.7M</td>\n",
       "      <td>5,000,000+</td>\n",
       "      <td>Free</td>\n",
       "      <td>0</td>\n",
       "      <td>Everyone</td>\n",
       "      <td>Art &amp; Design</td>\n",
       "      <td>August 1, 2018</td>\n",
       "      <td>1.2.4</td>\n",
       "      <td>4.0.3 and up</td>\n",
       "    </tr>\n",
       "    <tr>\n",
       "      <th>3</th>\n",
       "      <td>Sketch - Draw &amp; Paint</td>\n",
       "      <td>ART_AND_DESIGN</td>\n",
       "      <td>4.5</td>\n",
       "      <td>215644</td>\n",
       "      <td>25M</td>\n",
       "      <td>50,000,000+</td>\n",
       "      <td>Free</td>\n",
       "      <td>0</td>\n",
       "      <td>Teen</td>\n",
       "      <td>Art &amp; Design</td>\n",
       "      <td>June 8, 2018</td>\n",
       "      <td>Varies with device</td>\n",
       "      <td>4.2 and up</td>\n",
       "    </tr>\n",
       "    <tr>\n",
       "      <th>4</th>\n",
       "      <td>Pixel Draw - Number Art Coloring Book</td>\n",
       "      <td>ART_AND_DESIGN</td>\n",
       "      <td>4.3</td>\n",
       "      <td>967</td>\n",
       "      <td>2.8M</td>\n",
       "      <td>100,000+</td>\n",
       "      <td>Free</td>\n",
       "      <td>0</td>\n",
       "      <td>Everyone</td>\n",
       "      <td>Art &amp; Design;Creativity</td>\n",
       "      <td>June 20, 2018</td>\n",
       "      <td>1.1</td>\n",
       "      <td>4.4 and up</td>\n",
       "    </tr>\n",
       "  </tbody>\n",
       "</table>\n",
       "</div>"
      ],
      "text/plain": [
       "                                                 App        Category  Rating  \\\n",
       "0     Photo Editor & Candy Camera & Grid & ScrapBook  ART_AND_DESIGN     4.1   \n",
       "1                                Coloring book moana  ART_AND_DESIGN     3.9   \n",
       "2  U Launcher Lite – FREE Live Cool Themes, Hide ...  ART_AND_DESIGN     4.7   \n",
       "3                              Sketch - Draw & Paint  ART_AND_DESIGN     4.5   \n",
       "4              Pixel Draw - Number Art Coloring Book  ART_AND_DESIGN     4.3   \n",
       "\n",
       "  Reviews  Size     Installs  Type Price Content Rating  \\\n",
       "0     159   19M      10,000+  Free     0       Everyone   \n",
       "1     967   14M     500,000+  Free     0       Everyone   \n",
       "2   87510  8.7M   5,000,000+  Free     0       Everyone   \n",
       "3  215644   25M  50,000,000+  Free     0           Teen   \n",
       "4     967  2.8M     100,000+  Free     0       Everyone   \n",
       "\n",
       "                      Genres      Last Updated         Current Ver  \\\n",
       "0               Art & Design   January 7, 2018               1.0.0   \n",
       "1  Art & Design;Pretend Play  January 15, 2018               2.0.0   \n",
       "2               Art & Design    August 1, 2018               1.2.4   \n",
       "3               Art & Design      June 8, 2018  Varies with device   \n",
       "4    Art & Design;Creativity     June 20, 2018                 1.1   \n",
       "\n",
       "    Android Ver  \n",
       "0  4.0.3 and up  \n",
       "1  4.0.3 and up  \n",
       "2  4.0.3 and up  \n",
       "3    4.2 and up  \n",
       "4    4.4 and up  "
      ]
     },
     "execution_count": 2,
     "metadata": {},
     "output_type": "execute_result"
    }
   ],
   "source": [
    "df = pd.read_csv(r'C:\\Users\\vishal\\Desktop\\Dataset\\Play Store Data.csv')\n",
    "df.head()"
   ]
  },
  {
   "cell_type": "code",
   "execution_count": 3,
   "id": "1eec41c1-c165-4068-a52e-962a2db11701",
   "metadata": {},
   "outputs": [
    {
     "name": "stdout",
     "output_type": "stream",
     "text": [
      "<class 'pandas.core.frame.DataFrame'>\n",
      "RangeIndex: 10841 entries, 0 to 10840\n",
      "Data columns (total 13 columns):\n",
      " #   Column          Non-Null Count  Dtype  \n",
      "---  ------          --------------  -----  \n",
      " 0   App             10841 non-null  object \n",
      " 1   Category        10841 non-null  object \n",
      " 2   Rating          9367 non-null   float64\n",
      " 3   Reviews         10841 non-null  object \n",
      " 4   Size            10841 non-null  object \n",
      " 5   Installs        10841 non-null  object \n",
      " 6   Type            10840 non-null  object \n",
      " 7   Price           10841 non-null  object \n",
      " 8   Content Rating  10840 non-null  object \n",
      " 9   Genres          10841 non-null  object \n",
      " 10  Last Updated    10841 non-null  object \n",
      " 11  Current Ver     10833 non-null  object \n",
      " 12  Android Ver     10838 non-null  object \n",
      "dtypes: float64(1), object(12)\n",
      "memory usage: 1.1+ MB\n",
      "None\n"
     ]
    }
   ],
   "source": [
    "print(df.info())"
   ]
  },
  {
   "cell_type": "markdown",
   "id": "11cfea4c-0be3-4bb9-952c-c30b953504a4",
   "metadata": {},
   "source": [
    "# Clean Data"
   ]
  },
  {
   "cell_type": "code",
   "execution_count": 4,
   "id": "796781b4-780b-4120-9fb2-3543359b65c9",
   "metadata": {},
   "outputs": [],
   "source": [
    "# Drop missing important values\n",
    "df = df.dropna(subset=['App', 'Category', 'Installs'])"
   ]
  },
  {
   "cell_type": "code",
   "execution_count": 5,
   "id": "729443d0-de9b-4192-9c0d-97362ac1a393",
   "metadata": {},
   "outputs": [],
   "source": [
    "# Clean Installs\n",
    "df['Installs'] = df['Installs'].str.replace('[+,]', '', regex=True)\n",
    "df['Installs'] = pd.to_numeric(df['Installs'], errors='coerce')"
   ]
  },
  {
   "cell_type": "code",
   "execution_count": 6,
   "id": "f92ac3c2-aff0-44f0-815e-5ab8dfde900f",
   "metadata": {},
   "outputs": [],
   "source": [
    "# Clean Size → MB\n",
    "def size_to_mb(x):\n",
    "    if isinstance(x, str):\n",
    "        if 'M' in x:\n",
    "            return float(x.replace('M', ''))\n",
    "        elif 'k' in x:\n",
    "            return float(x.replace('k', ''))/1024\n",
    "        elif 'G' in x:\n",
    "            return float(x.replace('G', ''))*1024\n",
    "    return None\n",
    "\n",
    "df['Size_MB'] = df['Size'].apply(size_to_mb)"
   ]
  },
  {
   "cell_type": "code",
   "execution_count": 7,
   "id": "7445fd5c-59ba-4334-94d7-d1d519f787ed",
   "metadata": {},
   "outputs": [],
   "source": [
    "# Clean Reviews\n",
    "df['Reviews'] = pd.to_numeric(df['Reviews'], errors='coerce')"
   ]
  },
  {
   "cell_type": "code",
   "execution_count": 8,
   "id": "35d5c078-cbb5-48b4-b34a-d9580f3321fe",
   "metadata": {},
   "outputs": [],
   "source": [
    "# Parse Last Updated\n",
    "df['Last Updated'] = pd.to_datetime(df['Last Updated'], errors='coerce')"
   ]
  },
  {
   "cell_type": "code",
   "execution_count": 9,
   "id": "17c57be6-28bb-49b4-8308-744f2fc5cd24",
   "metadata": {},
   "outputs": [],
   "source": [
    "# Android Version\n",
    "import re\n",
    "df['Android_Ver_Num'] = pd.to_numeric(df['Android Ver'].str.extract(r'(\\d+\\.\\d+)')[0], errors='coerce')"
   ]
  },
  {
   "cell_type": "code",
   "execution_count": 10,
   "id": "fba13b0d-6f04-438e-af54-478800472dc6",
   "metadata": {},
   "outputs": [],
   "source": [
    "# Add dummy revenue if missing\n",
    "if 'Revenue' not in df.columns:\n",
    "    df['Revenue'] = df['Installs'] * 0.05"
   ]
  },
  {
   "cell_type": "code",
   "execution_count": 11,
   "id": "f3b6db80-3778-48bf-958d-663e8e7d0611",
   "metadata": {},
   "outputs": [],
   "source": [
    "# Add Country column if missing (for Task 2)\n",
    "if 'Country' not in df.columns:\n",
    "    import numpy as np\n",
    "    countries = ['US','IN','UK','DE','FR','BR','CA','AU']\n",
    "    df['Country'] = np.random.choice(countries, len(df))"
   ]
  },
  {
   "cell_type": "markdown",
   "id": "5e39b182-4cd2-4665-9fde-eefe5ed38f2f",
   "metadata": {},
   "source": [
    "# Time Utility (IST)"
   ]
  },
  {
   "cell_type": "code",
   "execution_count": 12,
   "id": "b76c4036-b994-458d-a5d8-820714b02072",
   "metadata": {},
   "outputs": [],
   "source": [
    "def is_visible_time(start_h, end_h):\n",
    "    ist = pytz.timezone('Asia/Kolkata')\n",
    "    now = datetime.now(ist)\n",
    "    return start_h <= now.hour < end_h"
   ]
  },
  {
   "cell_type": "markdown",
   "id": "b467bd4d-a3fc-4dd6-b7cc-2506e689b698",
   "metadata": {},
   "source": [
    "# Task 1\n",
    "1. Grouped bar: avg rating & total reviews for top 10 categories by installs.\n",
    "2. Filters: drop categories where avg rating < 4.0, size < 10MB, last update should be January.\n",
    "3. Time window: 3–5 PM IST"
   ]
  },
  {
   "cell_type": "code",
   "execution_count": 13,
   "id": "6cc0281b-f13c-4b39-ae76-2da4657879c2",
   "metadata": {},
   "outputs": [
    {
     "data": {
      "application/vnd.plotly.v1+json": {
       "config": {
        "plotlyServerURL": "https://plot.ly"
       },
       "data": [
        {
         "alignmentgroup": "True",
         "hovertemplate": "variable=Rating<br>Category=%{x}<br>value=%{y}<extra></extra>",
         "legendgroup": "Rating",
         "marker": {
          "color": "#636efa",
          "pattern": {
           "shape": ""
          }
         },
         "name": "Rating",
         "offsetgroup": "Rating",
         "orientation": "v",
         "showlegend": true,
         "textposition": "auto",
         "type": "bar",
         "x": [
          "FAMILY",
          "GAME",
          "SPORTS",
          "ENTERTAINMENT",
          "PHOTOGRAPHY",
          "PERSONALIZATION",
          "EDUCATION",
          "LIFESTYLE",
          "SHOPPING",
          "COMMUNICATION"
         ],
         "xaxis": "x",
         "y": {
          "bdata": "lSBPCfKUEUBBpw102kARQPEVX/EVXxFAAAAAAAAAEUCamZmZmZkQQGZmZmZm5hFAmpmZmZmZEUCF61G4HoURQM3MzMzMzBBAzczMzMzMEEA=",
          "dtype": "f8"
         },
         "yaxis": "y"
        },
        {
         "alignmentgroup": "True",
         "hovertemplate": "variable=Reviews<br>Category=%{x}<br>value=%{y}<extra></extra>",
         "legendgroup": "Reviews",
         "marker": {
          "color": "#EF553B",
          "pattern": {
           "shape": ""
          }
         },
         "name": "Reviews",
         "offsetgroup": "Reviews",
         "orientation": "v",
         "showlegend": true,
         "textposition": "auto",
         "type": "bar",
         "x": [
          "FAMILY",
          "GAME",
          "SPORTS",
          "ENTERTAINMENT",
          "PHOTOGRAPHY",
          "PERSONALIZATION",
          "EDUCATION",
          "LIFESTYLE",
          "SHOPPING",
          "COMMUNICATION"
         ],
         "xaxis": "x",
         "y": {
          "bdata": "AAAAwBtWUUEAAACAykpCQQAAAABBPj5BAAAAAKTnMkEAAAAAEDQhQQAAAADgCgNBAAAAAKAl7EAAAAAAIOfkQAAAAACAe9NAAAAAAIDbzUA=",
          "dtype": "f8"
         },
         "yaxis": "y"
        }
       ],
       "layout": {
        "barmode": "group",
        "legend": {
         "title": {
          "text": "variable"
         },
         "tracegroupgap": 0
        },
        "template": {
         "data": {
          "bar": [
           {
            "error_x": {
             "color": "#2a3f5f"
            },
            "error_y": {
             "color": "#2a3f5f"
            },
            "marker": {
             "line": {
              "color": "#E5ECF6",
              "width": 0.5
             },
             "pattern": {
              "fillmode": "overlay",
              "size": 10,
              "solidity": 0.2
             }
            },
            "type": "bar"
           }
          ],
          "barpolar": [
           {
            "marker": {
             "line": {
              "color": "#E5ECF6",
              "width": 0.5
             },
             "pattern": {
              "fillmode": "overlay",
              "size": 10,
              "solidity": 0.2
             }
            },
            "type": "barpolar"
           }
          ],
          "carpet": [
           {
            "aaxis": {
             "endlinecolor": "#2a3f5f",
             "gridcolor": "white",
             "linecolor": "white",
             "minorgridcolor": "white",
             "startlinecolor": "#2a3f5f"
            },
            "baxis": {
             "endlinecolor": "#2a3f5f",
             "gridcolor": "white",
             "linecolor": "white",
             "minorgridcolor": "white",
             "startlinecolor": "#2a3f5f"
            },
            "type": "carpet"
           }
          ],
          "choropleth": [
           {
            "colorbar": {
             "outlinewidth": 0,
             "ticks": ""
            },
            "type": "choropleth"
           }
          ],
          "contour": [
           {
            "colorbar": {
             "outlinewidth": 0,
             "ticks": ""
            },
            "colorscale": [
             [
              0,
              "#0d0887"
             ],
             [
              0.1111111111111111,
              "#46039f"
             ],
             [
              0.2222222222222222,
              "#7201a8"
             ],
             [
              0.3333333333333333,
              "#9c179e"
             ],
             [
              0.4444444444444444,
              "#bd3786"
             ],
             [
              0.5555555555555556,
              "#d8576b"
             ],
             [
              0.6666666666666666,
              "#ed7953"
             ],
             [
              0.7777777777777778,
              "#fb9f3a"
             ],
             [
              0.8888888888888888,
              "#fdca26"
             ],
             [
              1,
              "#f0f921"
             ]
            ],
            "type": "contour"
           }
          ],
          "contourcarpet": [
           {
            "colorbar": {
             "outlinewidth": 0,
             "ticks": ""
            },
            "type": "contourcarpet"
           }
          ],
          "heatmap": [
           {
            "colorbar": {
             "outlinewidth": 0,
             "ticks": ""
            },
            "colorscale": [
             [
              0,
              "#0d0887"
             ],
             [
              0.1111111111111111,
              "#46039f"
             ],
             [
              0.2222222222222222,
              "#7201a8"
             ],
             [
              0.3333333333333333,
              "#9c179e"
             ],
             [
              0.4444444444444444,
              "#bd3786"
             ],
             [
              0.5555555555555556,
              "#d8576b"
             ],
             [
              0.6666666666666666,
              "#ed7953"
             ],
             [
              0.7777777777777778,
              "#fb9f3a"
             ],
             [
              0.8888888888888888,
              "#fdca26"
             ],
             [
              1,
              "#f0f921"
             ]
            ],
            "type": "heatmap"
           }
          ],
          "histogram": [
           {
            "marker": {
             "pattern": {
              "fillmode": "overlay",
              "size": 10,
              "solidity": 0.2
             }
            },
            "type": "histogram"
           }
          ],
          "histogram2d": [
           {
            "colorbar": {
             "outlinewidth": 0,
             "ticks": ""
            },
            "colorscale": [
             [
              0,
              "#0d0887"
             ],
             [
              0.1111111111111111,
              "#46039f"
             ],
             [
              0.2222222222222222,
              "#7201a8"
             ],
             [
              0.3333333333333333,
              "#9c179e"
             ],
             [
              0.4444444444444444,
              "#bd3786"
             ],
             [
              0.5555555555555556,
              "#d8576b"
             ],
             [
              0.6666666666666666,
              "#ed7953"
             ],
             [
              0.7777777777777778,
              "#fb9f3a"
             ],
             [
              0.8888888888888888,
              "#fdca26"
             ],
             [
              1,
              "#f0f921"
             ]
            ],
            "type": "histogram2d"
           }
          ],
          "histogram2dcontour": [
           {
            "colorbar": {
             "outlinewidth": 0,
             "ticks": ""
            },
            "colorscale": [
             [
              0,
              "#0d0887"
             ],
             [
              0.1111111111111111,
              "#46039f"
             ],
             [
              0.2222222222222222,
              "#7201a8"
             ],
             [
              0.3333333333333333,
              "#9c179e"
             ],
             [
              0.4444444444444444,
              "#bd3786"
             ],
             [
              0.5555555555555556,
              "#d8576b"
             ],
             [
              0.6666666666666666,
              "#ed7953"
             ],
             [
              0.7777777777777778,
              "#fb9f3a"
             ],
             [
              0.8888888888888888,
              "#fdca26"
             ],
             [
              1,
              "#f0f921"
             ]
            ],
            "type": "histogram2dcontour"
           }
          ],
          "mesh3d": [
           {
            "colorbar": {
             "outlinewidth": 0,
             "ticks": ""
            },
            "type": "mesh3d"
           }
          ],
          "parcoords": [
           {
            "line": {
             "colorbar": {
              "outlinewidth": 0,
              "ticks": ""
             }
            },
            "type": "parcoords"
           }
          ],
          "pie": [
           {
            "automargin": true,
            "type": "pie"
           }
          ],
          "scatter": [
           {
            "fillpattern": {
             "fillmode": "overlay",
             "size": 10,
             "solidity": 0.2
            },
            "type": "scatter"
           }
          ],
          "scatter3d": [
           {
            "line": {
             "colorbar": {
              "outlinewidth": 0,
              "ticks": ""
             }
            },
            "marker": {
             "colorbar": {
              "outlinewidth": 0,
              "ticks": ""
             }
            },
            "type": "scatter3d"
           }
          ],
          "scattercarpet": [
           {
            "marker": {
             "colorbar": {
              "outlinewidth": 0,
              "ticks": ""
             }
            },
            "type": "scattercarpet"
           }
          ],
          "scattergeo": [
           {
            "marker": {
             "colorbar": {
              "outlinewidth": 0,
              "ticks": ""
             }
            },
            "type": "scattergeo"
           }
          ],
          "scattergl": [
           {
            "marker": {
             "colorbar": {
              "outlinewidth": 0,
              "ticks": ""
             }
            },
            "type": "scattergl"
           }
          ],
          "scattermap": [
           {
            "marker": {
             "colorbar": {
              "outlinewidth": 0,
              "ticks": ""
             }
            },
            "type": "scattermap"
           }
          ],
          "scattermapbox": [
           {
            "marker": {
             "colorbar": {
              "outlinewidth": 0,
              "ticks": ""
             }
            },
            "type": "scattermapbox"
           }
          ],
          "scatterpolar": [
           {
            "marker": {
             "colorbar": {
              "outlinewidth": 0,
              "ticks": ""
             }
            },
            "type": "scatterpolar"
           }
          ],
          "scatterpolargl": [
           {
            "marker": {
             "colorbar": {
              "outlinewidth": 0,
              "ticks": ""
             }
            },
            "type": "scatterpolargl"
           }
          ],
          "scatterternary": [
           {
            "marker": {
             "colorbar": {
              "outlinewidth": 0,
              "ticks": ""
             }
            },
            "type": "scatterternary"
           }
          ],
          "surface": [
           {
            "colorbar": {
             "outlinewidth": 0,
             "ticks": ""
            },
            "colorscale": [
             [
              0,
              "#0d0887"
             ],
             [
              0.1111111111111111,
              "#46039f"
             ],
             [
              0.2222222222222222,
              "#7201a8"
             ],
             [
              0.3333333333333333,
              "#9c179e"
             ],
             [
              0.4444444444444444,
              "#bd3786"
             ],
             [
              0.5555555555555556,
              "#d8576b"
             ],
             [
              0.6666666666666666,
              "#ed7953"
             ],
             [
              0.7777777777777778,
              "#fb9f3a"
             ],
             [
              0.8888888888888888,
              "#fdca26"
             ],
             [
              1,
              "#f0f921"
             ]
            ],
            "type": "surface"
           }
          ],
          "table": [
           {
            "cells": {
             "fill": {
              "color": "#EBF0F8"
             },
             "line": {
              "color": "white"
             }
            },
            "header": {
             "fill": {
              "color": "#C8D4E3"
             },
             "line": {
              "color": "white"
             }
            },
            "type": "table"
           }
          ]
         },
         "layout": {
          "annotationdefaults": {
           "arrowcolor": "#2a3f5f",
           "arrowhead": 0,
           "arrowwidth": 1
          },
          "autotypenumbers": "strict",
          "coloraxis": {
           "colorbar": {
            "outlinewidth": 0,
            "ticks": ""
           }
          },
          "colorscale": {
           "diverging": [
            [
             0,
             "#8e0152"
            ],
            [
             0.1,
             "#c51b7d"
            ],
            [
             0.2,
             "#de77ae"
            ],
            [
             0.3,
             "#f1b6da"
            ],
            [
             0.4,
             "#fde0ef"
            ],
            [
             0.5,
             "#f7f7f7"
            ],
            [
             0.6,
             "#e6f5d0"
            ],
            [
             0.7,
             "#b8e186"
            ],
            [
             0.8,
             "#7fbc41"
            ],
            [
             0.9,
             "#4d9221"
            ],
            [
             1,
             "#276419"
            ]
           ],
           "sequential": [
            [
             0,
             "#0d0887"
            ],
            [
             0.1111111111111111,
             "#46039f"
            ],
            [
             0.2222222222222222,
             "#7201a8"
            ],
            [
             0.3333333333333333,
             "#9c179e"
            ],
            [
             0.4444444444444444,
             "#bd3786"
            ],
            [
             0.5555555555555556,
             "#d8576b"
            ],
            [
             0.6666666666666666,
             "#ed7953"
            ],
            [
             0.7777777777777778,
             "#fb9f3a"
            ],
            [
             0.8888888888888888,
             "#fdca26"
            ],
            [
             1,
             "#f0f921"
            ]
           ],
           "sequentialminus": [
            [
             0,
             "#0d0887"
            ],
            [
             0.1111111111111111,
             "#46039f"
            ],
            [
             0.2222222222222222,
             "#7201a8"
            ],
            [
             0.3333333333333333,
             "#9c179e"
            ],
            [
             0.4444444444444444,
             "#bd3786"
            ],
            [
             0.5555555555555556,
             "#d8576b"
            ],
            [
             0.6666666666666666,
             "#ed7953"
            ],
            [
             0.7777777777777778,
             "#fb9f3a"
            ],
            [
             0.8888888888888888,
             "#fdca26"
            ],
            [
             1,
             "#f0f921"
            ]
           ]
          },
          "colorway": [
           "#636efa",
           "#EF553B",
           "#00cc96",
           "#ab63fa",
           "#FFA15A",
           "#19d3f3",
           "#FF6692",
           "#B6E880",
           "#FF97FF",
           "#FECB52"
          ],
          "font": {
           "color": "#2a3f5f"
          },
          "geo": {
           "bgcolor": "white",
           "lakecolor": "white",
           "landcolor": "#E5ECF6",
           "showlakes": true,
           "showland": true,
           "subunitcolor": "white"
          },
          "hoverlabel": {
           "align": "left"
          },
          "hovermode": "closest",
          "mapbox": {
           "style": "light"
          },
          "paper_bgcolor": "white",
          "plot_bgcolor": "#E5ECF6",
          "polar": {
           "angularaxis": {
            "gridcolor": "white",
            "linecolor": "white",
            "ticks": ""
           },
           "bgcolor": "#E5ECF6",
           "radialaxis": {
            "gridcolor": "white",
            "linecolor": "white",
            "ticks": ""
           }
          },
          "scene": {
           "xaxis": {
            "backgroundcolor": "#E5ECF6",
            "gridcolor": "white",
            "gridwidth": 2,
            "linecolor": "white",
            "showbackground": true,
            "ticks": "",
            "zerolinecolor": "white"
           },
           "yaxis": {
            "backgroundcolor": "#E5ECF6",
            "gridcolor": "white",
            "gridwidth": 2,
            "linecolor": "white",
            "showbackground": true,
            "ticks": "",
            "zerolinecolor": "white"
           },
           "zaxis": {
            "backgroundcolor": "#E5ECF6",
            "gridcolor": "white",
            "gridwidth": 2,
            "linecolor": "white",
            "showbackground": true,
            "ticks": "",
            "zerolinecolor": "white"
           }
          },
          "shapedefaults": {
           "line": {
            "color": "#2a3f5f"
           }
          },
          "ternary": {
           "aaxis": {
            "gridcolor": "white",
            "linecolor": "white",
            "ticks": ""
           },
           "baxis": {
            "gridcolor": "white",
            "linecolor": "white",
            "ticks": ""
           },
           "bgcolor": "#E5ECF6",
           "caxis": {
            "gridcolor": "white",
            "linecolor": "white",
            "ticks": ""
           }
          },
          "title": {
           "x": 0.05
          },
          "xaxis": {
           "automargin": true,
           "gridcolor": "white",
           "linecolor": "white",
           "ticks": "",
           "title": {
            "standoff": 15
           },
           "zerolinecolor": "white",
           "zerolinewidth": 2
          },
          "yaxis": {
           "automargin": true,
           "gridcolor": "white",
           "linecolor": "white",
           "ticks": "",
           "title": {
            "standoff": 15
           },
           "zerolinecolor": "white",
           "zerolinewidth": 2
          }
         }
        },
        "title": {
         "text": "Top 10 Categories (Jan, Rating>=4.0, Size>=10MB)"
        },
        "xaxis": {
         "anchor": "y",
         "domain": [
          0,
          1
         ],
         "title": {
          "text": "Category"
         }
        },
        "yaxis": {
         "anchor": "x",
         "domain": [
          0,
          1
         ],
         "title": {
          "text": "value"
         }
        }
       }
      }
     },
     "metadata": {},
     "output_type": "display_data"
    }
   ],
   "source": [
    "if is_visible_time(15, 17):\n",
    "    jan_filter = df[(df['Rating'] >= 4.0) & (df['Size_MB'] >= 10) & (df['Last Updated'].dt.month == 1)]\n",
    "    grouped = jan_filter.groupby('Category').agg({\n",
    "        'Rating': 'mean',\n",
    "        'Reviews': 'sum'\n",
    "    }).reset_index().nlargest(10, 'Reviews')\n",
    "\n",
    "    fig = px.bar(grouped, x='Category', y=['Rating','Reviews'], barmode='group',\n",
    "                 title='Top 10 Categories (Jan, Rating>=4.0, Size>=10MB)')\n",
    "    fig.show()\n",
    "else:\n",
    "    print(\"Task 1: Chart visible only between 3–5 PM IST\")\n"
   ]
  },
  {
   "cell_type": "markdown",
   "id": "5627cdc5-7424-4dcf-ba86-52cb40eefad5",
   "metadata": {},
   "source": [
    "# Task 2\n",
    "1. horopleth: global installs by Category (top 5 categories), highlight categories where installs > 1,000,000, exclude categories starting with A/C/G/S.\n",
    "2. Time window: 6–8 PM IST"
   ]
  },
  {
   "cell_type": "code",
   "execution_count": 14,
   "id": "9c1f524d-70d2-4f75-a4f5-2913d3a8ca2a",
   "metadata": {},
   "outputs": [
    {
     "name": "stdout",
     "output_type": "stream",
     "text": [
      "Task 2: Chart visible only between 6–8 PM IST\n"
     ]
    }
   ],
   "source": [
    "if is_visible_time(18, 20):\n",
    "    filtered = df[~df['Category'].str.startswith(('A','C','G','S'))]\n",
    "    grouped = filtered.groupby(['Country','Category'])['Installs'].sum().reset_index()\n",
    "    top5 = grouped.groupby('Category')['Installs'].sum().nlargest(5).index\n",
    "    grouped = grouped[grouped['Category'].isin(top5)]\n",
    "    grouped['Highlight'] = grouped['Installs'] > 1_000_000\n",
    "\n",
    "    fig = px.choropleth(grouped, locations='Country', locationmode='country names',\n",
    "                        color='Installs', hover_name='Category',\n",
    "                        title='Global Installs (Top 5 Categories, >1M Highlight)')\n",
    "    fig.show()\n",
    "else:\n",
    "    print(\"Task 2: Chart visible only between 6–8 PM IST\")"
   ]
  },
  {
   "cell_type": "markdown",
   "id": "a91ba277-3392-4884-9151-cbc4640b33cc",
   "metadata": {},
   "source": [
    "# Task 3\n",
    "1. Dual-axis chart comparing average installs and revenue for Free vs Paid\n",
    "2. within top 3 categories. Filters: Installs>=10k, Revenue>=10k, Android>4.0, Size>15MB, Content Rating='Everyone', App name length<=30.\n",
    "3. Time window: 1–2 PM IST"
   ]
  },
  {
   "cell_type": "code",
   "execution_count": 15,
   "id": "210873fe-2897-4bae-9843-cda77adbffa9",
   "metadata": {},
   "outputs": [
    {
     "name": "stdout",
     "output_type": "stream",
     "text": [
      "Task 3: Chart visible only between 1–2 PM IST\n"
     ]
    }
   ],
   "source": [
    "if is_visible_time(13, 14):\n",
    "    filt = df[(df['Installs'] >= 10000) & (df['Revenue'] >= 10000) &\n",
    "              (df['Android_Ver_Num'] > 4.0) & (df['Size_MB'] > 15) &\n",
    "              (df['Content Rating'] == 'Everyone') & (df['App'].str.len() <= 30)]\n",
    "    top3 = filt.groupby('Category')['Installs'].sum().nlargest(3).index\n",
    "    filt = filt[filt['Category'].isin(top3)]\n",
    "    grouped = filt.groupby(['Category','Type']).agg({'Installs':'mean','Revenue':'mean'}).reset_index()\n",
    "\n",
    "    fig = px.bar(grouped, x='Category', y='Installs', color='Type', barmode='group')\n",
    "    fig.add_scatter(x=grouped['Category'], y=grouped['Revenue'], mode='lines+markers', name='Revenue')\n",
    "    fig.show()\n",
    "else:\n",
    "    print(\"Task 3: Chart visible only between 1–2 PM IST\")"
   ]
  },
  {
   "cell_type": "markdown",
   "id": "6c9374fe-8e96-461a-a10b-db4816354ab6",
   "metadata": {},
   "source": [
    "# Task 4\n",
    "1. Time series: total installs over time, segmented by category.\n",
    "2. Highlight periods of >20% MoM increase (markers under curve).\n",
    "3. Filters:\n",
    " - App name not starting with x/y/z\n",
    " - Category starts with E/C/B\n",
    " - Translate: Beauty->Hindi (सौंदर्य), Business->Tamil (வணிகம்), Dating->German (Partnersuche)\n",
    " - Reviews > 500\n",
    " - App name must NOT contain letter 'S'.\n",
    "   \n",
    "4. Time window: 6–9 PM IST"
   ]
  },
  {
   "cell_type": "code",
   "execution_count": 16,
   "id": "32a69918-0356-4e44-848a-b8d2eaa4bbf7",
   "metadata": {},
   "outputs": [
    {
     "name": "stdout",
     "output_type": "stream",
     "text": [
      "Task 4: Chart visible only between 6–9 PM IST\n"
     ]
    }
   ],
   "source": [
    "if is_visible_time(18, 21):\n",
    "    filt = df[(~df['App'].str.startswith(('x','y','z')))\n",
    "              & (df['Category'].str.startswith(('E','C','B')))\n",
    "              & (df['Reviews'] > 500)\n",
    "              & (~df['App'].str.contains('S'))]\n",
    "    filt['Month'] = filt['Last Updated'].dt.to_period('M')\n",
    "    grouped = filt.groupby(['Month','Category'])['Installs'].sum().reset_index()\n",
    "    grouped['Month'] = grouped['Month'].astype(str)\n",
    "    grouped['Prev'] = grouped.groupby('Category')['Installs'].shift(1)\n",
    "    grouped['Growth'] = (grouped['Installs'] - grouped['Prev'])/grouped['Prev']*100\n",
    "    grouped['Highlight'] = grouped['Growth'] > 20\n",
    "\n",
    "    translations = {\"Beauty\":\"सौंदर्य\",\"Business\":\"வணிகம்\",\"Dating\":\"Liebe\"}\n",
    "    grouped['Category'] = grouped['Category'].replace(translations)\n",
    "\n",
    "    fig = px.line(grouped, x='Month', y='Installs', color='Category',\n",
    "                  title='Monthly Installs by Category (Growth>20 Highlight)')\n",
    "    for cat in grouped['Category'].unique():\n",
    "        highlight = grouped[(grouped['Category']==cat) & (grouped['Highlight'])]\n",
    "        fig.add_scatter(x=highlight['Month'], y=highlight['Installs'],\n",
    "                        mode='markers', marker=dict(size=10,color='red'),\n",
    "                        name=f\"{cat} Growth>20%\")\n",
    "    fig.show()\n",
    "else:\n",
    "    print(\"Task 4: Chart visible only between 6–9 PM IST\")"
   ]
  },
  {
   "cell_type": "markdown",
   "id": "4f463520-e492-4649-a1d9-0fd4eb0aa34f",
   "metadata": {},
   "source": [
    "# Task 5\n",
    "1. Bubble chart: size (MB) vs average rating, bubble size = installs.\n",
    "2. Filters:\n",
    " - Rating > 3.5\n",
    " - Categories in [Game, Beauty, Business, Comics, Communication, Dating, Entertainment, Social, Events]\n",
    " - Reviews > 500\n",
    " - App name must NOT contain letter 'S'\n",
    " - Sentiment subjectivity > 0.5 (if column available)\n",
    " - Highlight Game category in pink\n",
    " - Installs > 50k.\n",
    "\n",
    "3. Time window: 5–7 PM IST"
   ]
  },
  {
   "cell_type": "code",
   "execution_count": 17,
   "id": "89108c03-47be-4657-971c-4cbfdf7ef873",
   "metadata": {},
   "outputs": [
    {
     "name": "stdout",
     "output_type": "stream",
     "text": [
      "Task 5: Chart visible only between 5–7 PM IST\n"
     ]
    }
   ],
   "source": [
    "if is_visible_time(17, 19):\n",
    "    filt = df[(df['Rating'] > 3.5)\n",
    "              & (df['Category'].isin(['Comics','Communication','Beauty','Business','Dating']))\n",
    "              & (df['Reviews'] > 500)\n",
    "              & (~df['App'].str.contains('S'))\n",
    "              & (df['Installs'] > 50000)]\n",
    "    if 'Subjectivity' in df.columns:\n",
    "        filt = filt[filt['Subjectivity'] > 0.5]\n",
    "\n",
    "    translations = {\"Beauty\":\"सौंदर्य\",\"Business\":\"வணிகம்\",\"Dating\":\"Liebe\"}\n",
    "    filt['Category'] = filt['Category'].replace(translations)\n",
    "\n",
    "    fig = px.scatter(filt, x='Size_MB', y='Rating', size='Installs', color='Category',\n",
    "                     hover_name='App', title='Bubble Chart: Size vs Rating by Category')\n",
    "    game_apps = filt[filt['Category'].str.contains('Game', case=False, na=False)]\n",
    "    if not game_apps.empty:\n",
    "        fig.add_scatter(x=game_apps['Size_MB'], y=game_apps['Rating'], mode='markers',\n",
    "                        marker=dict(size=15,color='pink'), name='Game Highlight')\n",
    "    fig.show()\n",
    "else:\n",
    "    print(\"Task 5: Chart visible only between 5–7 PM IST\")"
   ]
  },
  {
   "cell_type": "code",
   "execution_count": null,
   "id": "d07f303a-293c-4924-a388-3e8ed04e5ab2",
   "metadata": {},
   "outputs": [],
   "source": []
  }
 ],
 "metadata": {
  "kernelspec": {
   "display_name": "Python 3 (ipykernel)",
   "language": "python",
   "name": "python3"
  },
  "language_info": {
   "codemirror_mode": {
    "name": "ipython",
    "version": 3
   },
   "file_extension": ".py",
   "mimetype": "text/x-python",
   "name": "python",
   "nbconvert_exporter": "python",
   "pygments_lexer": "ipython3",
   "version": "3.13.1"
  }
 },
 "nbformat": 4,
 "nbformat_minor": 5
}
