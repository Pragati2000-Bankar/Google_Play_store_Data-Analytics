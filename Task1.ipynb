{
 "cells": [
  {
   "cell_type": "markdown",
   "id": "d55d7d59-2c20-46a6-a5a8-325fa37611e4",
   "metadata": {},
   "source": [
    "Imports Librares"
   ]
  },
  {
   "cell_type": "code",
   "execution_count": null,
   "id": "db0973c9-83f2-4ab7-83d0-6b0f400ab204",
   "metadata": {},
   "outputs": [],
   "source": [
    "import pandas as pd\n",
    "import plotly.graph_objects as go\n",
    "import pytz\n",
    "from datetime import datetime"
   ]
  },
  {
   "cell_type": "markdown",
   "id": "d6564add-f65b-4bbf-919e-f2bc808dade3",
   "metadata": {},
   "source": [
    "Load dataset"
   ]
  },
  {
   "cell_type": "code",
   "execution_count": null,
   "id": "66b4bd7a-a2e0-4cc9-9a42-18a967392daf",
   "metadata": {},
   "outputs": [],
   "source": [
    "df = pd.read_csv(r'C:\\Users\\vishal\\Desktop\\Dataset\\Play Store Data.csv')"
   ]
  },
  {
   "cell_type": "code",
   "execution_count": null,
   "id": "f5d5a6bd-c92b-4dd9-b2c0-34d7cc171c9a",
   "metadata": {},
   "outputs": [],
   "source": [
    "df.head()"
   ]
  },
  {
   "cell_type": "markdown",
   "id": "e9e9d8ce-a39c-4d72-9880-bcdcf5b0d6bf",
   "metadata": {},
   "source": [
    "Time Window Function"
   ]
  },
  {
   "cell_type": "code",
   "execution_count": null,
   "id": "7078a7df-6137-4c8f-94b1-f75625235141",
   "metadata": {},
   "outputs": [],
   "source": [
    "# Time check function\n",
    "def is_visible_time(start_hour, end_hour):\n",
    "    ist = pytz.timezone('Asia/Kolkata')\n",
    "    now = datetime.now(ist)\n",
    "    return start_hour <= now.hour < end_hour\n",
    "\n",
    "# Only run between 3PM to 5PM IST\n",
    "if is_visible_time(15, 17):\n",
    "    # Clean Installs\n",
    "    df['Installs'] = df['Installs'].str.replace('[+,]', '', regex=True)\n",
    "    df['Installs'] = pd.to_numeric(df['Installs'], errors='coerce')\n",
    "\n",
    "    # Clean Size\n",
    "    def convert_size(size):\n",
    "        if isinstance(size, str):\n",
    "            if 'M' in size:\n",
    "                return float(size.replace('M', '').strip())\n",
    "            elif 'k' in size:\n",
    "                return float(size.replace('k', '').strip()) / 1024\n",
    "        return None\n",
    "    df['Size_MB'] = df['Size'].apply(convert_size)\n",
    "\n",
    "    # Clean Last Updated\n",
    "    df['Last Updated'] = pd.to_datetime(df['Last Updated'], errors='coerce')\n",
    "\n",
    "    # Filter data\n",
    "    filtered_df = df[\n",
    "        (df['Rating'] >= 4.0) &\n",
    "        (df['Size_MB'] >= 10) &\n",
    "        (df['Last Updated'].dt.month == 1)\n",
    "    ]\n",
    "\n",
    "    # Aggregate\n",
    "    grouped = filtered_df.groupby('Category').agg({\n",
    "        'Rating': 'mean',\n",
    "        'Reviews': 'sum',\n",
    "        'Installs': 'sum'\n",
    "    }).reset_index()\n",
    "\n",
    "    # Top 10 by Installs\n",
    "    top10 = grouped.sort_values(by='Installs', ascending=False).head(10)\n",
    "\n",
    "    # Plot grouped bar chart\n",
    "    fig = go.Figure(data=[\n",
    "        go.Bar(name='Average Rating', x=top10['Category'], y=top10['Rating']),\n",
    "        go.Bar(name='Total Reviews', x=top10['Category'], y=top10['Reviews'])\n",
    "    ])\n",
    "\n",
    "    fig.update_layout(\n",
    "        barmode='group',\n",
    "        title='Top 10 App Categories by Installs (Filtered)',\n",
    "        xaxis_title='Category',\n",
    "        yaxis_title='Value',\n",
    "        legend_title='Metric',\n",
    "        template='plotly_dark'\n",
    "    )\n",
    "\n",
    "    fig.show()\n",
    "else:\n",
    "    print(\"⏳ This chart is only visible between 3 PM and 5 PM IST.\")"
   ]
  },
  {
   "cell_type": "code",
   "execution_count": null,
   "id": "d294c0c5-0e2c-4667-ae76-019b9528dd21",
   "metadata": {},
   "outputs": [],
   "source": []
  },
  {
   "cell_type": "code",
   "execution_count": null,
   "id": "26b3373e-4cde-491a-a302-4beac12222cb",
   "metadata": {},
   "outputs": [],
   "source": []
  },
  {
   "cell_type": "code",
   "execution_count": null,
   "id": "8579feec-b08e-4273-b379-e813ff42a807",
   "metadata": {},
   "outputs": [],
   "source": []
  },
  {
   "cell_type": "code",
   "execution_count": null,
   "id": "3ab01a6d-9257-4df2-9c24-f1e249330b07",
   "metadata": {},
   "outputs": [],
   "source": []
  },
  {
   "cell_type": "code",
   "execution_count": null,
   "id": "e168266d-4a8e-4b23-8e5a-bb986c1040bf",
   "metadata": {},
   "outputs": [],
   "source": []
  },
  {
   "cell_type": "code",
   "execution_count": null,
   "id": "723f93d2-6185-467e-8a93-5f8679b7bfb7",
   "metadata": {},
   "outputs": [],
   "source": []
  },
  {
   "cell_type": "code",
   "execution_count": null,
   "id": "d14c80a6-e5fb-4279-9810-896dcafd9567",
   "metadata": {},
   "outputs": [],
   "source": []
  },
  {
   "cell_type": "code",
   "execution_count": null,
   "id": "4f75cdf0-c498-4835-9739-1b2cb185b202",
   "metadata": {},
   "outputs": [],
   "source": []
  }
 ],
 "metadata": {
  "kernelspec": {
   "display_name": "Python 3 (ipykernel)",
   "language": "python",
   "name": "python3"
  },
  "language_info": {
   "codemirror_mode": {
    "name": "ipython",
    "version": 3
   },
   "file_extension": ".py",
   "mimetype": "text/x-python",
   "name": "python",
   "nbconvert_exporter": "python",
   "pygments_lexer": "ipython3",
   "version": "3.13.1"
  }
 },
 "nbformat": 4,
 "nbformat_minor": 5
}
