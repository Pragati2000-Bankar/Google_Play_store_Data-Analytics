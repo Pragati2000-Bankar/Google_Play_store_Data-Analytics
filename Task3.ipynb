{
 "cells": [
  {
   "cell_type": "markdown",
   "id": "2b8c5bae-bdcc-45ca-a6b7-e6bc15983f89",
   "metadata": {},
   "source": [
    " Import Libraries"
   ]
  },
  {
   "cell_type": "code",
   "execution_count": 16,
   "id": "748c39f2-7063-484f-a8e3-c860bec8ac97",
   "metadata": {},
   "outputs": [],
   "source": [
    "import pandas as pd\n",
    "import plotly.graph_objects as go\n",
    "from datetime import datetime\n",
    "import pytz"
   ]
  },
  {
   "cell_type": "markdown",
   "id": "d018833d-8fcb-4d84-91c9-6f92e94fbd15",
   "metadata": {},
   "source": [
    "Time Check (1 PM to 2 PM IST)"
   ]
  },
  {
   "cell_type": "code",
   "execution_count": 17,
   "id": "069aa7a5-0e0e-46e1-9203-17f674bfd398",
   "metadata": {},
   "outputs": [],
   "source": [
    "ist = pytz.timezone('Asia/Kolkata')\n",
    "now = datetime.now(ist).time()\n",
    "\n",
    "if 13 <= now.hour < 14:\n",
    "    show_chart = True\n",
    "else:\n",
    "    show_chart = False"
   ]
  },
  {
   "cell_type": "markdown",
   "id": "e9f94782-20ad-4430-b028-e32adea2f3ad",
   "metadata": {},
   "source": [
    "Load & Clean Data"
   ]
  },
  {
   "cell_type": "code",
   "execution_count": 18,
   "id": "bac3bb64-fe26-4852-b202-af705e3aab75",
   "metadata": {},
   "outputs": [
    {
     "data": {
      "text/html": [
       "<div>\n",
       "<style scoped>\n",
       "    .dataframe tbody tr th:only-of-type {\n",
       "        vertical-align: middle;\n",
       "    }\n",
       "\n",
       "    .dataframe tbody tr th {\n",
       "        vertical-align: top;\n",
       "    }\n",
       "\n",
       "    .dataframe thead th {\n",
       "        text-align: right;\n",
       "    }\n",
       "</style>\n",
       "<table border=\"1\" class=\"dataframe\">\n",
       "  <thead>\n",
       "    <tr style=\"text-align: right;\">\n",
       "      <th></th>\n",
       "      <th>App</th>\n",
       "      <th>Category</th>\n",
       "      <th>Rating</th>\n",
       "      <th>Reviews</th>\n",
       "      <th>Size</th>\n",
       "      <th>Installs</th>\n",
       "      <th>Type</th>\n",
       "      <th>Price</th>\n",
       "      <th>Content Rating</th>\n",
       "      <th>Genres</th>\n",
       "      <th>Last Updated</th>\n",
       "      <th>Current Ver</th>\n",
       "      <th>Android Ver</th>\n",
       "    </tr>\n",
       "  </thead>\n",
       "  <tbody>\n",
       "    <tr>\n",
       "      <th>0</th>\n",
       "      <td>Photo Editor &amp; Candy Camera &amp; Grid &amp; ScrapBook</td>\n",
       "      <td>ART_AND_DESIGN</td>\n",
       "      <td>4.1</td>\n",
       "      <td>159</td>\n",
       "      <td>19M</td>\n",
       "      <td>10,000+</td>\n",
       "      <td>Free</td>\n",
       "      <td>0</td>\n",
       "      <td>Everyone</td>\n",
       "      <td>Art &amp; Design</td>\n",
       "      <td>January 7, 2018</td>\n",
       "      <td>1.0.0</td>\n",
       "      <td>4.0.3 and up</td>\n",
       "    </tr>\n",
       "    <tr>\n",
       "      <th>1</th>\n",
       "      <td>Coloring book moana</td>\n",
       "      <td>ART_AND_DESIGN</td>\n",
       "      <td>3.9</td>\n",
       "      <td>967</td>\n",
       "      <td>14M</td>\n",
       "      <td>500,000+</td>\n",
       "      <td>Free</td>\n",
       "      <td>0</td>\n",
       "      <td>Everyone</td>\n",
       "      <td>Art &amp; Design;Pretend Play</td>\n",
       "      <td>January 15, 2018</td>\n",
       "      <td>2.0.0</td>\n",
       "      <td>4.0.3 and up</td>\n",
       "    </tr>\n",
       "    <tr>\n",
       "      <th>2</th>\n",
       "      <td>U Launcher Lite – FREE Live Cool Themes, Hide ...</td>\n",
       "      <td>ART_AND_DESIGN</td>\n",
       "      <td>4.7</td>\n",
       "      <td>87510</td>\n",
       "      <td>8.7M</td>\n",
       "      <td>5,000,000+</td>\n",
       "      <td>Free</td>\n",
       "      <td>0</td>\n",
       "      <td>Everyone</td>\n",
       "      <td>Art &amp; Design</td>\n",
       "      <td>August 1, 2018</td>\n",
       "      <td>1.2.4</td>\n",
       "      <td>4.0.3 and up</td>\n",
       "    </tr>\n",
       "    <tr>\n",
       "      <th>3</th>\n",
       "      <td>Sketch - Draw &amp; Paint</td>\n",
       "      <td>ART_AND_DESIGN</td>\n",
       "      <td>4.5</td>\n",
       "      <td>215644</td>\n",
       "      <td>25M</td>\n",
       "      <td>50,000,000+</td>\n",
       "      <td>Free</td>\n",
       "      <td>0</td>\n",
       "      <td>Teen</td>\n",
       "      <td>Art &amp; Design</td>\n",
       "      <td>June 8, 2018</td>\n",
       "      <td>Varies with device</td>\n",
       "      <td>4.2 and up</td>\n",
       "    </tr>\n",
       "    <tr>\n",
       "      <th>4</th>\n",
       "      <td>Pixel Draw - Number Art Coloring Book</td>\n",
       "      <td>ART_AND_DESIGN</td>\n",
       "      <td>4.3</td>\n",
       "      <td>967</td>\n",
       "      <td>2.8M</td>\n",
       "      <td>100,000+</td>\n",
       "      <td>Free</td>\n",
       "      <td>0</td>\n",
       "      <td>Everyone</td>\n",
       "      <td>Art &amp; Design;Creativity</td>\n",
       "      <td>June 20, 2018</td>\n",
       "      <td>1.1</td>\n",
       "      <td>4.4 and up</td>\n",
       "    </tr>\n",
       "  </tbody>\n",
       "</table>\n",
       "</div>"
      ],
      "text/plain": [
       "                                                 App        Category  Rating  \\\n",
       "0     Photo Editor & Candy Camera & Grid & ScrapBook  ART_AND_DESIGN     4.1   \n",
       "1                                Coloring book moana  ART_AND_DESIGN     3.9   \n",
       "2  U Launcher Lite – FREE Live Cool Themes, Hide ...  ART_AND_DESIGN     4.7   \n",
       "3                              Sketch - Draw & Paint  ART_AND_DESIGN     4.5   \n",
       "4              Pixel Draw - Number Art Coloring Book  ART_AND_DESIGN     4.3   \n",
       "\n",
       "  Reviews  Size     Installs  Type Price Content Rating  \\\n",
       "0     159   19M      10,000+  Free     0       Everyone   \n",
       "1     967   14M     500,000+  Free     0       Everyone   \n",
       "2   87510  8.7M   5,000,000+  Free     0       Everyone   \n",
       "3  215644   25M  50,000,000+  Free     0           Teen   \n",
       "4     967  2.8M     100,000+  Free     0       Everyone   \n",
       "\n",
       "                      Genres      Last Updated         Current Ver  \\\n",
       "0               Art & Design   January 7, 2018               1.0.0   \n",
       "1  Art & Design;Pretend Play  January 15, 2018               2.0.0   \n",
       "2               Art & Design    August 1, 2018               1.2.4   \n",
       "3               Art & Design      June 8, 2018  Varies with device   \n",
       "4    Art & Design;Creativity     June 20, 2018                 1.1   \n",
       "\n",
       "    Android Ver  \n",
       "0  4.0.3 and up  \n",
       "1  4.0.3 and up  \n",
       "2  4.0.3 and up  \n",
       "3    4.2 and up  \n",
       "4    4.4 and up  "
      ]
     },
     "execution_count": 18,
     "metadata": {},
     "output_type": "execute_result"
    }
   ],
   "source": [
    "df = pd.read_csv(r'C:\\Users\\vishal\\Desktop\\Dataset\\Play Store Data.csv')\n",
    "df.head()"
   ]
  },
  {
   "cell_type": "code",
   "execution_count": 19,
   "id": "416c92e7-59e3-4695-af86-4a7c0a241de4",
   "metadata": {},
   "outputs": [],
   "source": [
    "df = df.dropna(subset=['Installs', 'Price', 'Size', 'Type', 'Android Ver', 'App', 'Content Rating', 'Category'])\n",
    "\n",
    "df['Installs'] = df['Installs'].str.replace('[+,]', '', regex=True).astype(float)\n",
    "df['Price'] = df['Price'].str.replace('$', '').astype(float)"
   ]
  },
  {
   "cell_type": "code",
   "execution_count": 20,
   "id": "a7afd177-70fe-4ea1-84ae-f34ceb32e047",
   "metadata": {},
   "outputs": [],
   "source": [
    "# Convert size to MB\n",
    "def convert_size(val):\n",
    "    if 'M' in str(val):\n",
    "        return float(val.replace('M', ''))\n",
    "    elif 'k' in str(val):\n",
    "        return float(val.replace('k', '')) / 1024\n",
    "    else:\n",
    "        return None"
   ]
  },
  {
   "cell_type": "code",
   "execution_count": 21,
   "id": "95a73152-3869-4837-80eb-1d0fd9b182b7",
   "metadata": {},
   "outputs": [],
   "source": [
    "df['Size'] = df['Size'].apply(convert_size)"
   ]
  },
  {
   "cell_type": "code",
   "execution_count": 22,
   "id": "3eca1ab4-0913-4a88-afec-3dcbd421e869",
   "metadata": {},
   "outputs": [],
   "source": [
    "# Compute Revenue for paid apps only\n",
    "df['Revenue'] = df.apply(lambda row: row['Installs'] * row['Price'] if row['Type'] == 'Paid' else 0, axis=1)\n",
    "\n",
    "# Convert Android Version to float\n",
    "df['Android_Ver_Num'] = pd.to_numeric(df['Android Ver'].str.extract(r'(\\d+\\.\\d+)')[0], errors='coerce')"
   ]
  },
  {
   "cell_type": "markdown",
   "id": "5af51d87-f6c6-4b06-8ac4-deec1fe91082",
   "metadata": {},
   "source": [
    "Apply All Filters"
   ]
  },
  {
   "cell_type": "code",
   "execution_count": 23,
   "id": "529f3710-f246-454f-b592-1356d56661e5",
   "metadata": {},
   "outputs": [],
   "source": [
    "df = df[\n",
    "    (df['Installs'] >= 10000) &\n",
    "    (df['Revenue'] >= 10000) &\n",
    "    (df['Size'] > 15) &\n",
    "    (df['Android_Ver_Num'] > 4.0) &\n",
    "    (df['Content Rating'] == 'Everyone') &\n",
    "    (df['App'].str.len() <= 30)\n",
    "]"
   ]
  },
  {
   "cell_type": "markdown",
   "id": "381917b4-e37a-428f-8e16-05af80db028f",
   "metadata": {},
   "source": [
    " Filter to Top 3 Categories by Installs"
   ]
  },
  {
   "cell_type": "code",
   "execution_count": 24,
   "id": "380b8f2c-453a-433f-82a7-4d0de365efa5",
   "metadata": {},
   "outputs": [],
   "source": [
    "top_3_categories = df.groupby('Category')['Installs'].sum().nlargest(3).index\n",
    "df = df[df['Category'].isin(top_3_categories)]"
   ]
  },
  {
   "cell_type": "markdown",
   "id": "59fc92e2-3e5c-434d-8616-ddb3dd73f6d3",
   "metadata": {},
   "source": [
    "Group by Free vs Paid"
   ]
  },
  {
   "cell_type": "code",
   "execution_count": 25,
   "id": "1ff18f45-fce3-4ead-93db-bee42fa3ca16",
   "metadata": {},
   "outputs": [],
   "source": [
    "summary = df.groupby('Type').agg({\n",
    "    'Installs': 'mean',\n",
    "    'Revenue': 'mean'\n",
    "}).reset_index()"
   ]
  },
  {
   "cell_type": "markdown",
   "id": "39cda95f-ec85-450b-bfa3-9af82ac345a5",
   "metadata": {},
   "source": [
    " Plot Dual Axis Chart (If Time Matches)"
   ]
  },
  {
   "cell_type": "code",
   "execution_count": 26,
   "id": "2fd8b861-5031-489b-87d5-11f0749fc920",
   "metadata": {},
   "outputs": [
    {
     "name": "stdout",
     "output_type": "stream",
     "text": [
      "⏳ This chart is only visible from 1 PM to 2 PM IST.\n"
     ]
    }
   ],
   "source": [
    "if show_chart:\n",
    "    fig = go.Figure()\n",
    "\n",
    "    # Bar for Installs\n",
    "    fig.add_trace(go.Bar(\n",
    "        x=summary['Type'],\n",
    "        y=summary['Installs'],\n",
    "        name='Average Installs',\n",
    "        yaxis='y1',\n",
    "        marker_color='royalblue'\n",
    "    ))\n",
    "\n",
    "    # Line for Revenue\n",
    "    fig.add_trace(go.Scatter(\n",
    "        x=summary['Type'],\n",
    "        y=summary['Revenue'],\n",
    "        name='Average Revenue',\n",
    "        yaxis='y2',\n",
    "        mode='lines+markers',\n",
    "        marker_color='darkorange'\n",
    "    ))\n",
    "\n",
    "    # Layout\n",
    "    fig.update_layout(\n",
    "        title='Free vs Paid Apps – Avg Installs vs Revenue (Top 3 Categories)',\n",
    "        xaxis=dict(title='App Type'),\n",
    "        yaxis=dict(title='Avg Installs', side='left'),\n",
    "        yaxis2=dict(title='Avg Revenue ($)', overlaying='y', side='right'),\n",
    "        legend=dict(x=0.5, y=1.2, orientation='h')\n",
    "    )\n",
    "\n",
    "    fig.show()\n",
    "else:\n",
    "    print(\"⏳ This chart is only visible from 1 PM to 2 PM IST.\")\n"
   ]
  },
  {
   "cell_type": "code",
   "execution_count": null,
   "id": "786f926b-b20a-4e98-a12f-02280dab790d",
   "metadata": {},
   "outputs": [],
   "source": []
  }
 ],
 "metadata": {
  "kernelspec": {
   "display_name": "Python 3 (ipykernel)",
   "language": "python",
   "name": "python3"
  },
  "language_info": {
   "codemirror_mode": {
    "name": "ipython",
    "version": 3
   },
   "file_extension": ".py",
   "mimetype": "text/x-python",
   "name": "python",
   "nbconvert_exporter": "python",
   "pygments_lexer": "ipython3",
   "version": "3.13.1"
  }
 },
 "nbformat": 4,
 "nbformat_minor": 5
}
