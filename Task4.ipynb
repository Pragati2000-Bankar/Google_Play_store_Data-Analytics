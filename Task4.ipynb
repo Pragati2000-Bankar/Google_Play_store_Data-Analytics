{
 "cells": [
  {
   "cell_type": "markdown",
   "id": "0d2da15e-fde7-44ff-add9-7f3c3f076e1e",
   "metadata": {},
   "source": [
    "Import Libraries"
   ]
  },
  {
   "cell_type": "code",
   "execution_count": 1,
   "id": "57969774-6a76-4cf3-9488-41ef683b82ae",
   "metadata": {},
   "outputs": [],
   "source": [
    "import numpy as np\n",
    "import pandas as pd\n",
    "import plotly.express as px\n",
    "from datetime import datetime\n",
    "import pytz"
   ]
  },
  {
   "cell_type": "markdown",
   "id": "6323a50e-1b54-483f-96c2-43f695fca98d",
   "metadata": {},
   "source": [
    "Time Check"
   ]
  },
  {
   "cell_type": "code",
   "execution_count": 2,
   "id": "06f3c297-869f-4e84-b3b0-c433d976367f",
   "metadata": {},
   "outputs": [],
   "source": [
    "ist = pytz.timezone('Asia/Kolkata')\n",
    "now = datetime.now(ist).time()\n",
    "\n",
    "if 18 <= now.hour < 21:\n",
    "    show_chart = True\n",
    "else:\n",
    "    show_chart = False"
   ]
  },
  {
   "cell_type": "markdown",
   "id": "81f4a78f-d79a-4fa7-be52-8852de4d9413",
   "metadata": {},
   "source": [
    " Load and Clean Data"
   ]
  },
  {
   "cell_type": "code",
   "execution_count": 3,
   "id": "763003b2-fc7f-4f8a-a748-1a8d1357d52e",
   "metadata": {},
   "outputs": [],
   "source": [
    "df = pd.read_csv(r'C:\\Users\\vishal\\Desktop\\Dataset\\Play Store Data.csv')"
   ]
  },
  {
   "cell_type": "code",
   "execution_count": 4,
   "id": "e11ad8e8-9a6f-4534-a6fe-d9b6cfbc5d84",
   "metadata": {},
   "outputs": [],
   "source": [
    "df = df.dropna(subset=['App', 'Category', 'Reviews', 'Installs', 'Last Updated'])"
   ]
  },
  {
   "cell_type": "code",
   "execution_count": 5,
   "id": "447c2eba-fe31-447e-b863-925fca9b60c8",
   "metadata": {},
   "outputs": [],
   "source": [
    "df['Reviews'] = pd.to_numeric(df['Reviews'], errors='coerce')"
   ]
  },
  {
   "cell_type": "code",
   "execution_count": 6,
   "id": "00a240ad-6fbf-4c26-89ea-8ac3242e5199",
   "metadata": {},
   "outputs": [],
   "source": [
    "df['Installs'] = pd.to_numeric(\n",
    "    df['Installs'].str.replace('[+,]', '', regex=True), \n",
    "    errors='coerce')"
   ]
  },
  {
   "cell_type": "code",
   "execution_count": 7,
   "id": "4fbe2bf5-7f4c-4406-a704-eb9d08bb2a43",
   "metadata": {},
   "outputs": [],
   "source": [
    "df = df.dropna(subset=['Installs'])\n",
    "\n",
    "df['Last Updated'] = pd.to_datetime(df['Last Updated'], errors='coerce')\n",
    "df = df.dropna(subset=['Last Updated'])\n",
    "\n",
    "df['Month'] = df['Last Updated'].dt.to_period('M').astype(str)"
   ]
  },
  {
   "cell_type": "markdown",
   "id": "a1c417a2-a19a-442a-b9c9-1ef0972fb8d2",
   "metadata": {},
   "source": [
    "Apply All Filters"
   ]
  },
  {
   "cell_type": "code",
   "execution_count": 8,
   "id": "71020f73-cbc9-4fdf-8588-92c3a039c438",
   "metadata": {},
   "outputs": [],
   "source": [
    "# App name must NOT start with x/y/z\n",
    "mask1 = ~df['App'].str.lower().str.startswith(('x', 'y', 'z'))\n",
    "\n",
    "# Category must start with B, C, or E\n",
    "mask2 = df['Category'].str.upper().str.startswith(('B', 'C', 'E'))\n",
    "\n",
    "# Reviews > 500\n",
    "mask3 = df['Reviews'] > 500\n",
    "\n",
    "# App name must NOT contain letter \"S\"\n",
    "mask4 = ~df['App'].str.contains('S', case=False)\n",
    "\n",
    "df = df[mask1 & mask2 & mask3 & mask4]\n"
   ]
  },
  {
   "cell_type": "markdown",
   "id": "5eba5254-36f0-43bd-8d55-5d5cc5765387",
   "metadata": {},
   "source": [
    "Translate Category Names"
   ]
  },
  {
   "cell_type": "code",
   "execution_count": 9,
   "id": "1fdea3b4-4ef2-42c9-97cc-2226b6b0d2ab",
   "metadata": {},
   "outputs": [],
   "source": [
    "# Translate specific categories\n",
    "translations = {\n",
    "    \"Beauty\": \"सौंदर्य\",\n",
    "    \"Business\": \"வணிகம்\",\n",
    "    \"Dating\": \"Partnersuche\"\n",
    "}\n",
    "\n",
    "df['Category'] = df['Category'].replace(translations)"
   ]
  },
  {
   "cell_type": "markdown",
   "id": "9ef54526-331c-4daf-aa86-0e807876ddfe",
   "metadata": {},
   "source": [
    "Aggregate Data"
   ]
  },
  {
   "cell_type": "code",
   "execution_count": 14,
   "id": "dd62e3f7-5070-44d2-9f9e-a2d54b6887f6",
   "metadata": {},
   "outputs": [],
   "source": [
    "grouped = df.groupby(['Month', 'Category'])['Installs'].sum().reset_index()\n",
    "\n",
    "# Sort by Month to allow time series\n",
    "grouped['Month'] = pd.to_datetime(grouped['Month'])\n",
    "\n",
    "grouped = grouped.sort_values(by=['Category', 'Month'])"
   ]
  },
  {
   "cell_type": "markdown",
   "id": "225bcd9a-befd-4319-82c1-99e751c2d9bf",
   "metadata": {},
   "source": [
    "Calculate MoM Growth Flag"
   ]
  },
  {
   "cell_type": "code",
   "execution_count": 15,
   "id": "ec209d7b-2032-4e47-84ac-1ff0266468e2",
   "metadata": {},
   "outputs": [],
   "source": [
    "grouped['Install Growth %'] = grouped.groupby('Category')['Installs'].pct_change() * 100\n",
    "grouped['Highlight'] = grouped['Install Growth %'] > 20"
   ]
  },
  {
   "cell_type": "markdown",
   "id": "820612c1-4c9c-40be-9a06-27def1d218af",
   "metadata": {},
   "source": [
    " Plot the Chart"
   ]
  },
  {
   "cell_type": "code",
   "execution_count": 17,
   "id": "1d2d0654-a0d3-4645-9346-617bf30a9720",
   "metadata": {},
   "outputs": [
    {
     "name": "stdout",
     "output_type": "stream",
     "text": [
      "⏳ This chart is only visible from 6 PM to 9 PM IST.\n"
     ]
    }
   ],
   "source": [
    "import plotly.graph_objects as go\n",
    "import plotly.express as px\n",
    "\n",
    "if show_chart:\n",
    "    fig = px.line(\n",
    "        grouped,\n",
    "        x='Month',\n",
    "        y='Installs',\n",
    "        color='Category',\n",
    "        title='Monthly Install Trend by Category (with MoM > 20% Highlighted)'\n",
    "    )\n",
    "\n",
    "    # Highlight growth areas\n",
    "    for category in grouped['Category'].unique():\n",
    "        highlight_data = grouped[(grouped['Category'] == category) & (grouped['Highlight'])]\n",
    "\n",
    "        fig.add_trace(go.Scatter(\n",
    "            x=highlight_data['Month'],\n",
    "            y=highlight_data['Installs'],\n",
    "            mode='markers',\n",
    "            marker=dict(size=10, color='red', symbol='circle'),\n",
    "            name=f'{category} - Growth > 20%'\n",
    "        ))\n",
    "\n",
    "    fig.show()\n",
    "else:\n",
    "    print(\"⏳ This chart is only visible from 6 PM to 9 PM IST.\")"
   ]
  },
  {
   "cell_type": "code",
   "execution_count": null,
   "id": "4d0f2f46-9c76-49f0-89b1-899e3c3d10a6",
   "metadata": {},
   "outputs": [],
   "source": []
  },
  {
   "cell_type": "code",
   "execution_count": null,
   "id": "9564d89e-1a0c-47cb-a60d-c09d2c12f02c",
   "metadata": {},
   "outputs": [],
   "source": []
  }
 ],
 "metadata": {
  "kernelspec": {
   "display_name": "Python 3 (ipykernel)",
   "language": "python",
   "name": "python3"
  },
  "language_info": {
   "codemirror_mode": {
    "name": "ipython",
    "version": 3
   },
   "file_extension": ".py",
   "mimetype": "text/x-python",
   "name": "python",
   "nbconvert_exporter": "python",
   "pygments_lexer": "ipython3",
   "version": "3.13.1"
  }
 },
 "nbformat": 4,
 "nbformat_minor": 5
}
